{
 "cells": [
  {
   "cell_type": "markdown",
   "metadata": {},
   "source": [
    "## Information\n",
    "\n",
    "Maria is a 25-year-old US Army veteran, newly returned to the civilian workforce. She has recently completed a six-year commitment with the Army. During her time in the Army, she worked in supply management and logistics. She has decided to pursue a degree in Management Systems and Information Technology.\n",
    "\n",
    "Maria has asked you to use your data skills to help her search for the best school for her. She is willing to relocate anywhere in the continental United States, but she has a few criteria that her ideal schools must satisfy: \n",
    "\n",
    "Safety of the city\n",
    "Schools should be offering a degree in IT\n",
    "Ranking of the school"
   ]
  },
  {
   "cell_type": "markdown",
   "metadata": {},
   "source": [
    "## Task\n",
    "Clean the Data for\n",
    "Any duplicates\n",
    "\n",
    "Missing Values\n",
    "\n",
    "Inconsistent values\n",
    "\n",
    "Data Enrichment\n",
    "Calculate School Ranking\n",
    "Calculate the overall crime rate\n",
    "Structure the Data: Merge the tables and produce the dataset which must have:\n",
    "Top 5 schools on rankings for It college\n",
    "\n",
    "Be in a city that is below 50th percentile in overall crime\n",
    "\n",
    "Remove unnecessary columns"
   ]
  },
  {
   "cell_type": "code",
   "execution_count": 231,
   "metadata": {},
   "outputs": [
    {
     "name": "stdout",
     "output_type": "stream",
     "text": [
      "     uid  RANK                                   UNIVERSITY             CITY  \\\n",
      "0  10023     5                           Cornell University           Ithaca   \n",
      "1  10034     6                     University of Washington      Seattle ...   \n",
      "2  10294     7  Columbia University in the City of New York    New York City   \n",
      "3  10388    10          University of Minnesota-Twin Cities  Minneapolis ...   \n",
      "4  10524    12                   University of Pennsylvania     Philadelphia   \n",
      "\n",
      "         Courses  AcademicScore  Staff/TeacherRatio  Citation Index  \\\n",
      "0  IT/Management            7.0                 8.0             5.0   \n",
      "1             IT            9.0                 8.0             9.0   \n",
      "2     Management            6.0                 7.0             7.0   \n",
      "3        Medical            5.0                 6.0             7.0   \n",
      "4   Architecture            6.0                 4.0             6.0   \n",
      "\n",
      "                                              NPCURL  \n",
      "0     galileo.aamu.edu/netpricecalculator/npcalc.htm  \n",
      "1    www.collegeportraits.org/AL/UAB/estimator/agree  \n",
      "2  tcc.noellevitz.com/(S(miwoihs5stz5cpyifh4nczu0...  \n",
      "3                                    finaid.uah.edu/  \n",
      "4  www.alasu.edu/cost-aid/forms/calculator/index....  \n",
      "              CITY  ViolentCrime  Murder  Robbery  PropertyCrime  Burglary  \\\n",
      "0           Ithaca        1160.0    15.1    122.2         4701.9    1179.5   \n",
      "1      Seattle ...        1070.1     7.6    126.6         4233.9     801.2   \n",
      "2    New York City         936.4     4.5    120.1         4565.9    1167.0   \n",
      "3  Minneapolis ...         901.5    19.3    247.0         2935.8     700.9   \n",
      "4     Philadelphia         825.4     5.5    147.8         4529.4     966.8   \n",
      "\n",
      "    Theft  MotorVehicleTheft  \n",
      "0  3356.0              166.3  \n",
      "1  2937.7              495.1  \n",
      "2  3083.7              315.2  \n",
      "3  1769.3              465.7  \n",
      "4  3223.1              339.6  \n"
     ]
    }
   ],
   "source": [
    "#library import, data loading\n",
    "\n",
    "import pandas as pd\n",
    "import numpy as np\n",
    "import re\n",
    "\n",
    "#dataset with colledge information\n",
    "collegeDf = pd.read_excel('CollegeScorecard2.xlsx')\n",
    "print(collegeDf.head())\n",
    "\n",
    "#dataset with information about crime rate\n",
    "crimeRateDf = pd.read_excel('Crime_2015.xlsx')\n",
    "print(crimeRateDf.head())"
   ]
  },
  {
   "cell_type": "code",
   "execution_count": 232,
   "metadata": {},
   "outputs": [
    {
     "name": "stdout",
     "output_type": "stream",
     "text": [
      "crimedf shape: (37, 8)\n",
      "<class 'pandas.core.frame.DataFrame'>\n",
      "RangeIndex: 37 entries, 0 to 36\n",
      "Data columns (total 8 columns):\n",
      " #   Column             Non-Null Count  Dtype  \n",
      "---  ------             --------------  -----  \n",
      " 0   CITY               37 non-null     object \n",
      " 1   ViolentCrime       37 non-null     float64\n",
      " 2   Murder             37 non-null     float64\n",
      " 3   Robbery            37 non-null     float64\n",
      " 4   PropertyCrime      36 non-null     float64\n",
      " 5   Burglary           37 non-null     float64\n",
      " 6   Theft              36 non-null     float64\n",
      " 7   MotorVehicleTheft  37 non-null     float64\n",
      "dtypes: float64(7), object(1)\n",
      "memory usage: 2.4+ KB\n",
      "crimedf information: None\n",
      "crimedf describe: <bound method NDFrame.describe of                  CITY  ViolentCrime  Murder  Robbery  PropertyCrime  Burglary  \\\n",
      "0              Ithaca        1160.0    15.1    122.2         4701.9    1179.5   \n",
      "1         Seattle ...        1070.1     7.6    126.6         4233.9     801.2   \n",
      "2       New York City         936.4     4.5    120.1         4565.9    1167.0   \n",
      "3     Minneapolis ...         901.5    19.3    247.0         2935.8     700.9   \n",
      "4        Philadelphia         825.4     5.5    147.8         4529.4     966.8   \n",
      "5     Los Angeles ...         818.8     6.8    170.9         2650.9     625.5   \n",
      "6       North Chicago         815.0     6.9    273.0         2817.8     868.9   \n",
      "7             Madison         797.1     8.9    213.2         3466.1     727.1   \n",
      "8   New York City ...         792.6     6.1    206.7         4607.8     883.4   \n",
      "9           Princeton         767.1     6.6    122.3         3756.3     832.7   \n",
      "10        Los Angeles         744.2     7.6    163.2         3636.9    1008.7   \n",
      "11     Pittsburgh ...         734.5     6.9    112.8         3067.1     848.1   \n",
      "12       East Lansing         720.2     5.2    131.1         3075.5     669.1   \n",
      "13      San Diego ...         667.9     7.8    157.9         3894.1    1099.6   \n",
      "14        Gainesville         650.6     6.9     99.3         3464.0     627.8   \n",
      "15         Irvine ...         621.6     6.5     88.7         3469.1    1151.7   \n",
      "16      North Chicago         615.7     8.0    114.7         5190.6    1392.1   \n",
      "17             Durham         612.7     5.5    128.8         2580.2     506.7   \n",
      "18       Evanston ...         610.3     8.0    197.5         3670.5     534.9   \n",
      "19  New Brunswick ...         605.4     5.1     95.5         3370.5     697.4   \n",
      "20     Salt Lake City         579.7     7.9    129.7         3596.7     787.9   \n",
      "21            Raleigh         577.3     7.3    152.5         3692.2     725.5   \n",
      "22     Pittsburgh ...         566.6     6.9    228.9            NaN     596.8   \n",
      "23           Pasadena         409.3     3.0     60.9         2838.6     744.2   \n",
      "24  Santa Barbara ...         556.3     7.3    130.2         3439.3     954.3   \n",
      "25            Lincoln         537.3     6.1    136.9         3439.4     751.3   \n",
      "26            Medford         534.4    16.3    168.0         3030.2     532.2   \n",
      "27         Eugene ...         529.9     5.8     81.1         3418.3     662.9   \n",
      "28              Provo         529.7     5.1    110.4         3105.8     728.1   \n",
      "29      Iowa City ...         529.5     3.5    120.8         2366.8     529.4   \n",
      "30            Pullman         522.2     6.9    121.0         2818.0     783.5   \n",
      "31          Rochester         510.1     6.6    156.8         3285.8     536.1   \n",
      "32            Fairfax         506.7     5.8     89.3         2941.3     630.0   \n",
      "33         Providence         498.1     8.9    120.7         2008.4     425.3   \n",
      "34          Nashville         497.0     2.3     35.2         2075.4     624.2   \n",
      "35            Hanover         495.7     5.8    173.7         2357.7     445.9   \n",
      "36             Newark         494.3     8.8    106.6         3604.3    1099.2   \n",
      "\n",
      "     Theft  MotorVehicleTheft  \n",
      "0   3356.0              166.3  \n",
      "1   2937.7              495.1  \n",
      "2   3083.7              315.2  \n",
      "3   1769.3              465.7  \n",
      "4   3223.1              339.6  \n",
      "5   1834.1              191.2  \n",
      "6   1499.1              449.7  \n",
      "7   2180.0              559.0  \n",
      "8   3047.6              676.9  \n",
      "9   2602.3              321.3  \n",
      "10  2422.3              205.9  \n",
      "11  2064.7              154.3  \n",
      "12  2286.6              119.7  \n",
      "13  2652.8              141.7  \n",
      "14  2466.4              369.8  \n",
      "15  2089.2              228.1  \n",
      "16  3174.8              623.7  \n",
      "17  1929.5              144.0  \n",
      "18  2811.8              323.9  \n",
      "19  2521.4              151.7  \n",
      "20  2601.2              207.6  \n",
      "21  2274.2              692.4  \n",
      "22     NaN              367.2  \n",
      "23  2000.8               93.6  \n",
      "24  1881.1              603.9  \n",
      "25  2196.6              491.5  \n",
      "26  2196.4              301.6  \n",
      "27  2476.1              279.3  \n",
      "28  2168.4              209.2  \n",
      "29  1656.2              181.2  \n",
      "30  1865.8              168.7  \n",
      "31  2470.0              279.7  \n",
      "32  2158.6              152.7  \n",
      "33  1326.5              256.6  \n",
      "34  1352.2               99.1  \n",
      "35  1480.8              431.1  \n",
      "36  2337.7              167.4  >\n"
     ]
    }
   ],
   "source": [
    "#preliminary information about datasets\n",
    "print(f\"crimedf shape: {crimeRateDf.shape}\")\n",
    "print(f\"crimedf information: {crimeRateDf.info()}\")\n",
    "print(f\"crimedf describe: {crimeRateDf.describe}\")"
   ]
  },
  {
   "cell_type": "code",
   "execution_count": 233,
   "metadata": {},
   "outputs": [
    {
     "name": "stdout",
     "output_type": "stream",
     "text": [
      "colledgedf shape: (31, 9)\n",
      "<class 'pandas.core.frame.DataFrame'>\n",
      "RangeIndex: 31 entries, 0 to 30\n",
      "Data columns (total 9 columns):\n",
      " #   Column              Non-Null Count  Dtype  \n",
      "---  ------              --------------  -----  \n",
      " 0   uid                 31 non-null     int64  \n",
      " 1   RANK                31 non-null     int64  \n",
      " 2   UNIVERSITY          31 non-null     object \n",
      " 3   CITY                31 non-null     object \n",
      " 4   Courses             30 non-null     object \n",
      " 5   AcademicScore       22 non-null     float64\n",
      " 6   Staff/TeacherRatio  22 non-null     float64\n",
      " 7   Citation Index      20 non-null     float64\n",
      " 8   NPCURL              31 non-null     object \n",
      "dtypes: float64(3), int64(2), object(4)\n",
      "memory usage: 2.3+ KB\n",
      "colledgedf information: None\n",
      "colledgedf describe: <bound method NDFrame.describe of       uid  RANK                                         UNIVERSITY  \\\n",
      "0   10023     5                                 Cornell University   \n",
      "1   10034     6                           University of Washington   \n",
      "2   10294     7        Columbia University in the City of New York   \n",
      "3   10388    10                University of Minnesota-Twin Cities   \n",
      "4   10524    12                         University of Pennsylvania   \n",
      "5   10659    13              University of California, Los Angeles   \n",
      "6   10795    14                                    Yale University   \n",
      "7   10930    16                    University of Wisconsin-Madison   \n",
      "8   11066    18                                New York University   \n",
      "9   11201    19                               Princeton University   \n",
      "10  11337    20                  University of Southern California   \n",
      "11  11472    22                         Carnegie Mellon University   \n",
      "12  11608    23                          Michigan State University   \n",
      "13  11743    24                University of California, San Diego   \n",
      "14  11879    26                              University of Florida   \n",
      "15  12014    29                   University of California, Irvine   \n",
      "16  84321  1083  Rosalind Franklin University of Medicine and S...   \n",
      "17  12285    31                                    Duke University   \n",
      "18  12421    34                            Northwestern University   \n",
      "19  12556    36        Rutgers, The State University of New Jersey   \n",
      "20  12692    40                             The University of Utah   \n",
      "21  12827    42                    North Carolina State University   \n",
      "22  12963    43                           University of Pittsburgh   \n",
      "23  13098    46                 California Institute of Technology   \n",
      "24  13234    47            University of California, Santa Barbara   \n",
      "25  13369    49                     University of Nebraska-Lincoln   \n",
      "26  13505    51                                   Tufts University   \n",
      "27  13640    53                               University of Oregon   \n",
      "28  13776    57                           Brigham Young University   \n",
      "29  13911    61                                 University of Iowa   \n",
      "30  14047    62                        Washington State University   \n",
      "\n",
      "                 CITY                    Courses  AcademicScore  \\\n",
      "0              Ithaca              IT/Management            7.0   \n",
      "1         Seattle ...                         IT            9.0   \n",
      "2       New York City                 Management            6.0   \n",
      "3     Minneapolis ...                    Medical            5.0   \n",
      "4        Philadelphia               Architecture            6.0   \n",
      "5     Los Angeles ...       Architecture/ARTS/IT            4.0   \n",
      "6           New Haven                 Management            4.0   \n",
      "7             Madison                 Management            4.0   \n",
      "8   New York City ...            IT/Medical/Arts            4.0   \n",
      "9           Princeton                    Medical            9.0   \n",
      "10        Los Angeles           IT/Medical/Arts0            6.0   \n",
      "11     Pittsburgh ...               Architecture            5.0   \n",
      "12       East Lansing                          0            6.0   \n",
      "13      San Diego ...                         IT            4.0   \n",
      "14        Gainesville               Architecture            8.0   \n",
      "15         Irvine ...                         IT            8.0   \n",
      "16      North Chicago             ITArchitecture            NaN   \n",
      "17             Durham  Electrnoics/IT/Biomedical            9.0   \n",
      "18       Evanston ...                          0            6.0   \n",
      "19  New Brunswick ...                       Arts            6.0   \n",
      "20     Salt Lake City                        NaN            4.0   \n",
      "21            Raleigh              IT/management            8.0   \n",
      "22     Pittsburgh ...       Medical/Architecture            8.0   \n",
      "23           Pasadena                          0            NaN   \n",
      "24  Santa Barbara ...                          0            NaN   \n",
      "25            Lincoln                          0            NaN   \n",
      "26            Medford                          0            NaN   \n",
      "27         Eugene ...                          0            NaN   \n",
      "28              Provo                          0            NaN   \n",
      "29      Iowa City ...                          0            NaN   \n",
      "30            Pullman                          0            NaN   \n",
      "\n",
      "    Staff/TeacherRatio  Citation Index  \\\n",
      "0                  8.0             5.0   \n",
      "1                  8.0             9.0   \n",
      "2                  7.0             7.0   \n",
      "3                  6.0             7.0   \n",
      "4                  4.0             6.0   \n",
      "5                  5.0             NaN   \n",
      "6                  7.0            -4.0   \n",
      "7                 -6.0             0.0   \n",
      "8                  7.0             9.0   \n",
      "9                  7.0             9.0   \n",
      "10                -6.0             7.0   \n",
      "11                 6.0             NaN   \n",
      "12                 6.0             8.0   \n",
      "13                 6.0             8.0   \n",
      "14                -7.0             5.0   \n",
      "15                 5.0            -7.0   \n",
      "16                 NaN             NaN   \n",
      "17                 9.0             9.0   \n",
      "18                 8.0             7.0   \n",
      "19                 6.0             8.0   \n",
      "20                 6.0             8.0   \n",
      "21                -7.0             5.0   \n",
      "22                 5.0            -7.0   \n",
      "23                 NaN             NaN   \n",
      "24                 NaN             NaN   \n",
      "25                 NaN             NaN   \n",
      "26                 NaN             NaN   \n",
      "27                 NaN             NaN   \n",
      "28                 NaN             NaN   \n",
      "29                 NaN             NaN   \n",
      "30                 NaN             NaN   \n",
      "\n",
      "                                               NPCURL  \n",
      "0      galileo.aamu.edu/netpricecalculator/npcalc.htm  \n",
      "1     www.collegeportraits.org/AL/UAB/estimator/agree  \n",
      "2   tcc.noellevitz.com/(S(miwoihs5stz5cpyifh4nczu0...  \n",
      "3                                     finaid.uah.edu/  \n",
      "4   www.alasu.edu/cost-aid/forms/calculator/index....  \n",
      "5                                         oira.ua.edu  \n",
      "6   www.cacc.edu/graphics/netpricecalculator/npcal...  \n",
      "7   24.athens.edu/apex/prod8/f?p=174:1:39413574495...  \n",
      "8   www.aum.edu/admissions/financial-information/p...  \n",
      "9        www.auburn.edu/admissions/money-matters.html  \n",
      "10                   www.bsc.edu/fp/np-calculator.cfm  \n",
      "11                     external.cv.edu/npc/npcalc.htm  \n",
      "12                    www.ccal.edu/netprice/netprice/  \n",
      "13  tcc.noellevitz.com/edmc/Transfer-Students?ifra...  \n",
      "14                   www.escc.edu/NetPrice/npcalc.htm  \n",
      "15                              www.faulknerstate.edu  \n",
      "16                         www.faulkner.edu/netprice/  \n",
      "17           www.gadsdenstate.edu/netpricecalculator/  \n",
      "18                  www.nbccosmetology.com/npcalc.htm  \n",
      "19          www.wallace.edu/net_price_calculator.aspx  \n",
      "20  www.wallacestate.edu/Financial-Aid/Net-Price-C...  \n",
      "21               www.wccs.edu/index.php?page=npc.html  \n",
      "22  www.herzing.edu/financial-aid/net-price-calcul...  \n",
      "23  hawk.huntingdon.edu/oiac/netpricecalculator/np...  \n",
      "24                  www.hcu.edu/share/news/npcalc.htm  \n",
      "25  www.drakestate.edu/admissions/net_price_calcul...  \n",
      "26                                www.jsu.edu/finaid/  \n",
      "27                   www.jdcc.edu/netpricecalculator/  \n",
      "28  www.jeffstateonline.com/financial/tuition/net-...  \n",
      "29                  calhoun.studentaidcalculator.com/  \n",
      "30                                     www.judson.edu  >\n"
     ]
    }
   ],
   "source": [
    "print(f\"colledgedf shape: {collegeDf.shape}\")\n",
    "print(f\"colledgedf information: {collegeDf.info()}\")\n",
    "print(f\"colledgedf describe: {collegeDf.describe}\")"
   ]
  },
  {
   "cell_type": "markdown",
   "metadata": {},
   "source": [
    "As in \"collegde\" data set there is a need only for Rank, City, University name and Courses information, unnessesary columns is better to remove at the first stage in order to improve performance and use computational resources rationaly. \n",
    "\n",
    "Additionaly, as there is no missing values in the columns of interest, there is no need to work on it. The one row in Courses that has NA will be removed when filtering dataset for leaving universities with the IT course only. If it would be a bigger data set - it would be nessesary to drop rows with missing values first.  "
   ]
  },
  {
   "cell_type": "code",
   "execution_count": 234,
   "metadata": {},
   "outputs": [
    {
     "data": {
      "text/plain": [
       "Index(['RANK', 'UNIVERSITY', 'CITY', 'Courses'], dtype='object')"
      ]
     },
     "execution_count": 234,
     "metadata": {},
     "output_type": "execute_result"
    }
   ],
   "source": [
    "collegeDf.columns\n",
    "# drop columns that are not needed for the analysis\n",
    "columns_to_drop = ['uid','AcademicScore', 'Staff/TeacherRatio', 'Citation Index', 'NPCURL']\n",
    "colledgeDf_cleaned = collegeDf.drop(columns =columns_to_drop )\n",
    "colledgeDf_cleaned.columns"
   ]
  },
  {
   "cell_type": "code",
   "execution_count": 235,
   "metadata": {},
   "outputs": [
    {
     "name": "stdout",
     "output_type": "stream",
     "text": [
      "0             Ithaca\n",
      "1            Seattle\n",
      "2      New York City\n",
      "3        Minneapolis\n",
      "4       Philadelphia\n",
      "5        Los Angeles\n",
      "6          New Haven\n",
      "7            Madison\n",
      "8      New York City\n",
      "9          Princeton\n",
      "10       Los Angeles\n",
      "11        Pittsburgh\n",
      "12      East Lansing\n",
      "13         San Diego\n",
      "14       Gainesville\n",
      "15            Irvine\n",
      "16     North Chicago\n",
      "17            Durham\n",
      "18          Evanston\n",
      "19     New Brunswick\n",
      "20    Salt Lake City\n",
      "21           Raleigh\n",
      "22        Pittsburgh\n",
      "23          Pasadena\n",
      "24     Santa Barbara\n",
      "25           Lincoln\n",
      "26           Medford\n",
      "27            Eugene\n",
      "28             Provo\n",
      "29         Iowa City\n",
      "30           Pullman\n",
      "Name: CITY, dtype: object\n"
     ]
    }
   ],
   "source": [
    "# cleaning CITY column from unnsesary symbols such as dots\n",
    "# Function to clean the string\n",
    "def clean_string(s):\n",
    "    if isinstance(s, str):\n",
    "        # Replace periods with spaces\n",
    "        s = s.replace('.', ' ')\n",
    "        # Remove tabs, newlines, and other whitespace characters\n",
    "        s = re.sub(r'\\s+', ' ', s)  # Replace multiple spaces, tabs, or newlines with a single space\n",
    "        # Strip leading and trailing spaces\n",
    "        s = s.strip()\n",
    "    return s \n",
    "\n",
    "colledgeDf_cleaned['CITY'] = colledgeDf_cleaned['CITY'].apply(clean_string)\n",
    "print(colledgeDf_cleaned['CITY'])\n"
   ]
  },
  {
   "cell_type": "code",
   "execution_count": 236,
   "metadata": {},
   "outputs": [
    {
     "name": "stdout",
     "output_type": "stream",
     "text": [
      "number of unique universities: 31\n",
      "number of dataset rows: (31, 4)\n",
      "There is no duplicates in University columns\n"
     ]
    }
   ],
   "source": [
    "#removing duplicates\n",
    "#check for duplicates in UNIVERSITY column\n",
    "unique_names = colledgeDf_cleaned['UNIVERSITY'].unique()\n",
    "print(f\"number of unique universities: {len(unique_names)}\")\n",
    "print(f\"number of dataset rows: {colledgeDf_cleaned.shape }\") \n",
    "\n",
    "if(len(unique_names) == colledgeDf_cleaned.shape[0]):\n",
    "    print(\"There is no duplicates in University columns\")\n",
    "else:\n",
    "    print(f\"There are {colledgeDf_cleaned.shape[0] - len(unique_names)} duplicates in the University column\")\n"
   ]
  },
  {
   "cell_type": "code",
   "execution_count": 237,
   "metadata": {},
   "outputs": [
    {
     "name": "stdout",
     "output_type": "stream",
     "text": [
      "   RANK                                   UNIVERSITY           CITY  \\\n",
      "0     5                           Cornell University         Ithaca   \n",
      "1     6                     University of Washington        Seattle   \n",
      "2     7  Columbia University in the City of New York  New York City   \n",
      "3    10          University of Minnesota-Twin Cities    Minneapolis   \n",
      "4    12                   University of Pennsylvania   Philadelphia   \n",
      "\n",
      "         Courses  IsITDegree  \n",
      "0  IT/Management         1.0  \n",
      "1             IT         1.0  \n",
      "2     Management         0.0  \n",
      "3        Medical         0.0  \n",
      "4   Architecture         0.0  \n"
     ]
    }
   ],
   "source": [
    "#adding a column that indicates if there is a degree in IT offered\n",
    "def isItDegree(s):\n",
    "    if isinstance(s, str):\n",
    "        if 'IT' in s:\n",
    "            s = True\n",
    "        else:\n",
    "            s = False\n",
    "        \n",
    "    return s\n",
    "\n",
    "colledgeDf_cleaned['IsITDegree'] = colledgeDf_cleaned['Courses'].apply(lambda x: pd.Series(isItDegree(x)))\n",
    "print(colledgeDf_cleaned.head())"
   ]
  },
  {
   "cell_type": "code",
   "execution_count": 238,
   "metadata": {},
   "outputs": [
    {
     "name": "stdout",
     "output_type": "stream",
     "text": [
      "    RANK                                         UNIVERSITY           CITY  \\\n",
      "16  1083  Rosalind Franklin University of Medicine and S...  North Chicago   \n",
      "21    42                    North Carolina State University        Raleigh   \n",
      "17    31                                    Duke University         Durham   \n",
      "15    29                   University of California, Irvine         Irvine   \n",
      "13    24                University of California, San Diego      San Diego   \n",
      "10    20                  University of Southern California    Los Angeles   \n",
      "8     18                                New York University  New York City   \n",
      "5     13              University of California, Los Angeles    Los Angeles   \n",
      "1      6                           University of Washington        Seattle   \n",
      "0      5                                 Cornell University         Ithaca   \n",
      "\n",
      "                      Courses  IsITDegree  \n",
      "16             ITArchitecture         1.0  \n",
      "21              IT/management         1.0  \n",
      "17  Electrnoics/IT/Biomedical         1.0  \n",
      "15                         IT         1.0  \n",
      "13                         IT         1.0  \n",
      "10           IT/Medical/Arts0         1.0  \n",
      "8             IT/Medical/Arts         1.0  \n",
      "5        Architecture/ARTS/IT         1.0  \n",
      "1                          IT         1.0  \n",
      "0               IT/Management         1.0  \n"
     ]
    }
   ],
   "source": [
    "#Keep only those Universities that have degree in IT sorted by RANK\n",
    "colledgeDf_cleaned= colledgeDf_cleaned[colledgeDf_cleaned['IsITDegree'] == True]\n",
    "colledgeDf_cleaned = colledgeDf_cleaned.sort_values(by=\"RANK\", ascending=False)\n",
    "print(colledgeDf_cleaned)"
   ]
  },
  {
   "cell_type": "markdown",
   "metadata": {},
   "source": [
    "Cleaning crime rate dataset \n",
    "Step 1 clean the CITY column\n",
    "Step 2 drop rows with missing values as dataset has only one such row. In case of big amount of missing values techniques for replacing missing values would apply, for instance replacing missing value with a mode ar mean value. In the more difficult case - it might be nessesary to replace missing value with the nearest neighbor known value. "
   ]
  },
  {
   "cell_type": "code",
   "execution_count": 239,
   "metadata": {},
   "outputs": [
    {
     "name": "stdout",
     "output_type": "stream",
     "text": [
      "0             Ithaca\n",
      "1            Seattle\n",
      "2      New York City\n",
      "3        Minneapolis\n",
      "4       Philadelphia\n",
      "5        Los Angeles\n",
      "6      North Chicago\n",
      "7            Madison\n",
      "8      New York City\n",
      "9          Princeton\n",
      "10       Los Angeles\n",
      "11        Pittsburgh\n",
      "12      East Lansing\n",
      "13         San Diego\n",
      "14       Gainesville\n",
      "15            Irvine\n",
      "16     North Chicago\n",
      "17            Durham\n",
      "18          Evanston\n",
      "19     New Brunswick\n",
      "20    Salt Lake City\n",
      "21           Raleigh\n",
      "22        Pittsburgh\n",
      "23          Pasadena\n",
      "24     Santa Barbara\n",
      "25           Lincoln\n",
      "26           Medford\n",
      "27            Eugene\n",
      "28             Provo\n",
      "29         Iowa City\n",
      "30           Pullman\n",
      "31         Rochester\n",
      "32           Fairfax\n",
      "33        Providence\n",
      "34         Nashville\n",
      "35           Hanover\n",
      "36            Newark\n",
      "Name: CITY, dtype: object\n"
     ]
    }
   ],
   "source": [
    "#cleaning of the CITY column\n",
    "crimeRateDf['CITY'] = crimeRateDf['CITY'].apply(clean_string)\n",
    "print(crimeRateDf['CITY'])\n",
    "\n",
    "#drop rows with missinf values\n",
    "crimeRateDf = crimeRateDf.dropna()"
   ]
  },
  {
   "cell_type": "code",
   "execution_count": 240,
   "metadata": {},
   "outputs": [
    {
     "name": "stdout",
     "output_type": "stream",
     "text": [
      "number of unique cities: 33\n",
      "number of dataset rows: 36\n",
      "There are 3 duplicates in the CITY column\n"
     ]
    }
   ],
   "source": [
    "#check for duplicates \n",
    "unique_cities= crimeRateDf['CITY'].unique()\n",
    "print(f\"number of unique cities: {len(unique_cities)}\")\n",
    "print(f\"number of dataset rows: {crimeRateDf.shape[0] }\") \n",
    "\n",
    "if(len(unique_cities) == colledgeDf_cleaned.shape[0]):\n",
    "    print(\"There is no duplicates in CITY columns\")\n",
    "else:\n",
    "    print(f\"There are {crimeRateDf.shape[0] - len(unique_cities)} duplicates in the CITY column\")\n"
   ]
  },
  {
   "cell_type": "code",
   "execution_count": 241,
   "metadata": {},
   "outputs": [
    {
     "name": "stdout",
     "output_type": "stream",
     "text": [
      "(33, 8)\n"
     ]
    }
   ],
   "source": [
    "#drop duplicates\n",
    "crimeRateDf=crimeRateDf.drop_duplicates(subset=[\"CITY\"])\n",
    "print(crimeRateDf.shape)"
   ]
  },
  {
   "cell_type": "markdown",
   "metadata": {},
   "source": [
    "## Calculation of the total crime rate and define cities that are below 50th percentile in overall crime"
   ]
  },
  {
   "cell_type": "code",
   "execution_count": 242,
   "metadata": {},
   "outputs": [
    {
     "name": "stdout",
     "output_type": "stream",
     "text": [
      "              CITY  totalCrimeRate\n",
      "33      Providence          4644.5\n",
      "34       Nashville          4685.4\n",
      "29       Iowa City          5387.4\n",
      "35         Hanover          5390.7\n",
      "17          Durham          5907.4\n",
      "23        Pasadena          6150.4\n",
      "30         Pullman          6286.1\n",
      "5      Los Angeles          6298.2\n",
      "32         Fairfax          6484.4\n",
      "6    North Chicago          6730.4\n",
      "26         Medford          6779.1\n",
      "28           Provo          6856.7\n",
      "11      Pittsburgh          6988.4\n",
      "12    East Lansing          7007.4\n",
      "3      Minneapolis          7039.5\n",
      "31       Rochester          7245.1\n",
      "19   New Brunswick          7447.0\n",
      "27          Eugene          7453.4\n",
      "25         Lincoln          7559.1\n",
      "24   Santa Barbara          7572.4\n",
      "15          Irvine          7654.9\n",
      "14     Gainesville          7684.8\n",
      "36          Newark          7818.3\n",
      "20  Salt Lake City          7910.7\n",
      "7          Madison          7951.4\n",
      "21         Raleigh          8121.4\n",
      "18        Evanston          8156.9\n",
      "9        Princeton          8408.6\n",
      "13       San Diego          8621.8\n",
      "1          Seattle          9672.2\n",
      "4     Philadelphia         10037.6\n",
      "2    New York City         10192.8\n",
      "0           Ithaca         10701.0\n"
     ]
    },
    {
     "data": {
      "text/plain": [
       "(33, 2)"
      ]
     },
     "execution_count": 242,
     "metadata": {},
     "output_type": "execute_result"
    }
   ],
   "source": [
    "#calculation of the total crime rate by addint totalCrime column \n",
    "crimeRateDf[\"totalCrimeRate\"] = crimeRateDf[\"ViolentCrime\"] + crimeRateDf[\"Murder\"] + crimeRateDf[\"Robbery\"] + crimeRateDf[\"PropertyCrime\"] + crimeRateDf[\"Burglary\"] + crimeRateDf[\"Theft\"] + crimeRateDf[\"MotorVehicleTheft\"]\n",
    "\n",
    "#sort cities in Dewcending order\n",
    "crimeRateDf = crimeRateDf.sort_values(by=\"totalCrimeRate\", ascending=True)\n",
    "columnsToPrint=[\"CITY\", \"totalCrimeRate\"]\n",
    "print(crimeRateDf[columnsToPrint])\n",
    "\n",
    "#drop columns that are not needed for the analysis\n",
    "crimeRateDf = crimeRateDf.drop(columns=[\"ViolentCrime\", \"Murder\", \"Robbery\", \"PropertyCrime\", \"Burglary\", \"Theft\",\"MotorVehicleTheft\"])\n",
    "crimeRateDf.shape"
   ]
  },
  {
   "cell_type": "code",
   "execution_count": 243,
   "metadata": {},
   "outputs": [
    {
     "name": "stdout",
     "output_type": "stream",
     "text": [
      "6759.620000000001\n",
      "             CITY  totalCrimeRate\n",
      "33     Providence          4644.5\n",
      "34      Nashville          4685.4\n",
      "29      Iowa City          5387.4\n",
      "35        Hanover          5390.7\n",
      "17         Durham          5907.4\n",
      "23       Pasadena          6150.4\n",
      "30        Pullman          6286.1\n",
      "5     Los Angeles          6298.2\n",
      "32        Fairfax          6484.4\n",
      "6   North Chicago          6730.4\n"
     ]
    }
   ],
   "source": [
    "#define cities where crime is below 50 percentile\n",
    "def pct50(column):\n",
    "    return column.quantile(0.3)\n",
    "Below50pctMark = crimeRateDf[\"totalCrimeRate\"].agg(pct50)\n",
    "print(Below50pctMark)\n",
    "cityToLive = crimeRateDf[crimeRateDf[\"totalCrimeRate\"]<Below50pctMark]\n",
    "print(cityToLive)\n"
   ]
  },
  {
   "cell_type": "markdown",
   "metadata": {},
   "source": [
    "## Defining best schools for Maria"
   ]
  },
  {
   "cell_type": "code",
   "execution_count": 244,
   "metadata": {},
   "outputs": [
    {
     "data": {
      "text/html": [
       "<div>\n",
       "<style scoped>\n",
       "    .dataframe tbody tr th:only-of-type {\n",
       "        vertical-align: middle;\n",
       "    }\n",
       "\n",
       "    .dataframe tbody tr th {\n",
       "        vertical-align: top;\n",
       "    }\n",
       "\n",
       "    .dataframe thead th {\n",
       "        text-align: right;\n",
       "    }\n",
       "</style>\n",
       "<table border=\"1\" class=\"dataframe\">\n",
       "  <thead>\n",
       "    <tr style=\"text-align: right;\">\n",
       "      <th></th>\n",
       "      <th>CITY</th>\n",
       "      <th>totalCrimeRate</th>\n",
       "      <th>RANK</th>\n",
       "      <th>UNIVERSITY</th>\n",
       "      <th>Courses</th>\n",
       "      <th>IsITDegree</th>\n",
       "    </tr>\n",
       "  </thead>\n",
       "  <tbody>\n",
       "    <tr>\n",
       "      <th>3</th>\n",
       "      <td>North Chicago</td>\n",
       "      <td>6730.4</td>\n",
       "      <td>1083</td>\n",
       "      <td>Rosalind Franklin University of Medicine and S...</td>\n",
       "      <td>ITArchitecture</td>\n",
       "      <td>1.0</td>\n",
       "    </tr>\n",
       "    <tr>\n",
       "      <th>0</th>\n",
       "      <td>Durham</td>\n",
       "      <td>5907.4</td>\n",
       "      <td>31</td>\n",
       "      <td>Duke University</td>\n",
       "      <td>Electrnoics/IT/Biomedical</td>\n",
       "      <td>1.0</td>\n",
       "    </tr>\n",
       "    <tr>\n",
       "      <th>1</th>\n",
       "      <td>Los Angeles</td>\n",
       "      <td>6298.2</td>\n",
       "      <td>20</td>\n",
       "      <td>University of Southern California</td>\n",
       "      <td>IT/Medical/Arts0</td>\n",
       "      <td>1.0</td>\n",
       "    </tr>\n",
       "    <tr>\n",
       "      <th>2</th>\n",
       "      <td>Los Angeles</td>\n",
       "      <td>6298.2</td>\n",
       "      <td>13</td>\n",
       "      <td>University of California, Los Angeles</td>\n",
       "      <td>Architecture/ARTS/IT</td>\n",
       "      <td>1.0</td>\n",
       "    </tr>\n",
       "  </tbody>\n",
       "</table>\n",
       "</div>"
      ],
      "text/plain": [
       "            CITY  totalCrimeRate  RANK  \\\n",
       "3  North Chicago          6730.4  1083   \n",
       "0         Durham          5907.4    31   \n",
       "1    Los Angeles          6298.2    20   \n",
       "2    Los Angeles          6298.2    13   \n",
       "\n",
       "                                          UNIVERSITY  \\\n",
       "3  Rosalind Franklin University of Medicine and S...   \n",
       "0                                    Duke University   \n",
       "1                  University of Southern California   \n",
       "2              University of California, Los Angeles   \n",
       "\n",
       "                     Courses  IsITDegree  \n",
       "3             ITArchitecture         1.0  \n",
       "0  Electrnoics/IT/Biomedical         1.0  \n",
       "1           IT/Medical/Arts0         1.0  \n",
       "2       Architecture/ARTS/IT         1.0  "
      ]
     },
     "execution_count": 244,
     "metadata": {},
     "output_type": "execute_result"
    }
   ],
   "source": [
    "#merge datasets \n",
    "topSafeColledge = pd.merge(cityToLive, colledgeDf_cleaned, on='CITY', how='inner')\n",
    "\n",
    "topSafeColledge = topSafeColledge.sort_values(by=\"RANK\", ascending=False)\n",
    "\n",
    "topSafeColledge\n"
   ]
  },
  {
   "cell_type": "markdown",
   "metadata": {},
   "source": [
    "### Conclusion: there are only 4 univercities that offer an IT degree and are in cities with the crime rate below 50 percentile, the most popular city is Los Angeles as it has two universities that fullfil requirements"
   ]
  }
 ],
 "metadata": {
  "kernelspec": {
   "display_name": "Python 3",
   "language": "python",
   "name": "python3"
  },
  "language_info": {
   "codemirror_mode": {
    "name": "ipython",
    "version": 3
   },
   "file_extension": ".py",
   "mimetype": "text/x-python",
   "name": "python",
   "nbconvert_exporter": "python",
   "pygments_lexer": "ipython3",
   "version": "3.12.5"
  }
 },
 "nbformat": 4,
 "nbformat_minor": 2
}
